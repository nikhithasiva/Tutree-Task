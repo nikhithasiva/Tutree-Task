{
 "cells": [
  {
   "cell_type": "markdown",
   "metadata": {},
   "source": [
    "## Importing the libraries"
   ]
  },
  {
   "cell_type": "code",
   "execution_count": 1,
   "metadata": {},
   "outputs": [],
   "source": [
    "import pandas as pd"
   ]
  },
  {
   "cell_type": "code",
   "execution_count": 2,
   "metadata": {},
   "outputs": [],
   "source": [
    "data=pd.read_csv(r\"C:\\Users\\Nikhitha Siva\\Desktop\\Connect_Mobile__Attrition_Data_file.csv\") #loading the data"
   ]
  },
  {
   "cell_type": "code",
   "execution_count": 3,
   "metadata": {},
   "outputs": [
    {
     "data": {
      "text/plain": [
       "Index(['active_cust', 'income', 'expenditure', 'months_on_network',\n",
       "       'Num_complaints', 'number_plan_changes', 'relocated', 'monthly_bill',\n",
       "       'technical_issues_per_month', 'Speed_test_result'],\n",
       "      dtype='object')"
      ]
     },
     "execution_count": 3,
     "metadata": {},
     "output_type": "execute_result"
    }
   ],
   "source": [
    "data.columns"
   ]
  },
  {
   "cell_type": "code",
   "execution_count": 4,
   "metadata": {},
   "outputs": [
    {
     "data": {
      "text/plain": [
       "active_cust                   False\n",
       "income                        False\n",
       "expenditure                   False\n",
       "months_on_network             False\n",
       "Num_complaints                False\n",
       "number_plan_changes           False\n",
       "relocated                     False\n",
       "monthly_bill                  False\n",
       "technical_issues_per_month    False\n",
       "Speed_test_result             False\n",
       "dtype: bool"
      ]
     },
     "execution_count": 4,
     "metadata": {},
     "output_type": "execute_result"
    }
   ],
   "source": [
    "data.isnull().any() #checking for any missing values"
   ]
  },
  {
   "cell_type": "code",
   "execution_count": 5,
   "metadata": {},
   "outputs": [
    {
     "data": {
      "text/plain": [
       "active_cust                   0\n",
       "income                        0\n",
       "expenditure                   0\n",
       "months_on_network             0\n",
       "Num_complaints                0\n",
       "number_plan_changes           0\n",
       "relocated                     0\n",
       "monthly_bill                  0\n",
       "technical_issues_per_month    0\n",
       "Speed_test_result             0\n",
       "dtype: int64"
      ]
     },
     "execution_count": 5,
     "metadata": {},
     "output_type": "execute_result"
    }
   ],
   "source": [
    "data.isnull().sum()"
   ]
  },
  {
   "cell_type": "code",
   "execution_count": 6,
   "metadata": {},
   "outputs": [
    {
     "data": {
      "text/plain": [
       "<bound method DataFrame.info of        active_cust  income  expenditure  months_on_network  Num_complaints  \\\n",
       "0                0    1586       1268.8                 85               4   \n",
       "1                0    1581       1264.8                 85               4   \n",
       "2                0    1594       1275.2                 82               4   \n",
       "3                0    1594       1275.2                 82               4   \n",
       "4                1    1609       1287.2                 80               4   \n",
       "...            ...     ...          ...                ...             ...   \n",
       "99995            1    1673       1338.4                 71               4   \n",
       "99996            1    1667       1333.6                 71               4   \n",
       "99997            1    1672       1337.6                 71               4   \n",
       "99998            1    1686       1348.8                 69               4   \n",
       "99999            1    1687       1349.6                 69               4   \n",
       "\n",
       "       number_plan_changes  relocated  monthly_bill  \\\n",
       "0                        1          0           121   \n",
       "1                        1          0           133   \n",
       "2                        1          0           118   \n",
       "3                        1          0           123   \n",
       "4                        1          0           177   \n",
       "...                    ...        ...           ...   \n",
       "99995                    2          0            46   \n",
       "99996                    2          0            47   \n",
       "99997                    2          0            36   \n",
       "99998                    2          0            47   \n",
       "99999                    2          0            33   \n",
       "\n",
       "       technical_issues_per_month  Speed_test_result  \n",
       "0                               4                 85  \n",
       "1                               4                 85  \n",
       "2                               4                 85  \n",
       "3                               4                 85  \n",
       "4                               4                 85  \n",
       "...                           ...                ...  \n",
       "99995                           4                 86  \n",
       "99996                           4                 86  \n",
       "99997                           4                 86  \n",
       "99998                           4                 86  \n",
       "99999                           4                 86  \n",
       "\n",
       "[100000 rows x 10 columns]>"
      ]
     },
     "execution_count": 6,
     "metadata": {},
     "output_type": "execute_result"
    }
   ],
   "source": [
    "data.info #information about the data"
   ]
  },
  {
   "cell_type": "code",
   "execution_count": 7,
   "metadata": {},
   "outputs": [
    {
     "name": "stdout",
     "output_type": "stream",
     "text": [
      "<class 'pandas.core.frame.DataFrame'>\n",
      "RangeIndex: 100000 entries, 0 to 99999\n",
      "Data columns (total 10 columns):\n",
      " #   Column                      Non-Null Count   Dtype  \n",
      "---  ------                      --------------   -----  \n",
      " 0   active_cust                 100000 non-null  int64  \n",
      " 1   income                      100000 non-null  int64  \n",
      " 2   expenditure                 100000 non-null  float64\n",
      " 3   months_on_network           100000 non-null  int64  \n",
      " 4   Num_complaints              100000 non-null  int64  \n",
      " 5   number_plan_changes         100000 non-null  int64  \n",
      " 6   relocated                   100000 non-null  int64  \n",
      " 7   monthly_bill                100000 non-null  int64  \n",
      " 8   technical_issues_per_month  100000 non-null  int64  \n",
      " 9   Speed_test_result           100000 non-null  int64  \n",
      "dtypes: float64(1), int64(9)\n",
      "memory usage: 7.6 MB\n"
     ]
    }
   ],
   "source": [
    "data.info()"
   ]
  },
  {
   "cell_type": "code",
   "execution_count": 8,
   "metadata": {},
   "outputs": [
    {
     "data": {
      "text/plain": [
       "(100000, 10)"
      ]
     },
     "execution_count": 8,
     "metadata": {},
     "output_type": "execute_result"
    }
   ],
   "source": [
    "data.shape #checking the number of rows and columns in the data"
   ]
  },
  {
   "cell_type": "code",
   "execution_count": 9,
   "metadata": {},
   "outputs": [
    {
     "data": {
      "text/html": [
       "<div>\n",
       "<style scoped>\n",
       "    .dataframe tbody tr th:only-of-type {\n",
       "        vertical-align: middle;\n",
       "    }\n",
       "\n",
       "    .dataframe tbody tr th {\n",
       "        vertical-align: top;\n",
       "    }\n",
       "\n",
       "    .dataframe thead th {\n",
       "        text-align: right;\n",
       "    }\n",
       "</style>\n",
       "<table border=\"1\" class=\"dataframe\">\n",
       "  <thead>\n",
       "    <tr style=\"text-align: right;\">\n",
       "      <th></th>\n",
       "      <th>active_cust</th>\n",
       "      <th>income</th>\n",
       "      <th>expenditure</th>\n",
       "      <th>months_on_network</th>\n",
       "      <th>Num_complaints</th>\n",
       "      <th>number_plan_changes</th>\n",
       "      <th>relocated</th>\n",
       "      <th>monthly_bill</th>\n",
       "      <th>technical_issues_per_month</th>\n",
       "      <th>Speed_test_result</th>\n",
       "    </tr>\n",
       "  </thead>\n",
       "  <tbody>\n",
       "    <tr>\n",
       "      <th>count</th>\n",
       "      <td>100000.000000</td>\n",
       "      <td>100000.000000</td>\n",
       "      <td>100000.000000</td>\n",
       "      <td>100000.000000</td>\n",
       "      <td>100000.000000</td>\n",
       "      <td>100000.000000</td>\n",
       "      <td>100000.000000</td>\n",
       "      <td>100000.000000</td>\n",
       "      <td>100000.00000</td>\n",
       "      <td>100000.000000</td>\n",
       "    </tr>\n",
       "    <tr>\n",
       "      <th>mean</th>\n",
       "      <td>0.578590</td>\n",
       "      <td>1855.279910</td>\n",
       "      <td>1409.669662</td>\n",
       "      <td>58.402450</td>\n",
       "      <td>4.012840</td>\n",
       "      <td>1.385410</td>\n",
       "      <td>0.123480</td>\n",
       "      <td>95.816450</td>\n",
       "      <td>3.31673</td>\n",
       "      <td>81.668540</td>\n",
       "    </tr>\n",
       "    <tr>\n",
       "      <th>std</th>\n",
       "      <td>0.493787</td>\n",
       "      <td>2712.385257</td>\n",
       "      <td>2174.330870</td>\n",
       "      <td>18.643736</td>\n",
       "      <td>0.285265</td>\n",
       "      <td>1.617101</td>\n",
       "      <td>0.328989</td>\n",
       "      <td>50.161327</td>\n",
       "      <td>1.24147</td>\n",
       "      <td>9.952554</td>\n",
       "    </tr>\n",
       "    <tr>\n",
       "      <th>min</th>\n",
       "      <td>0.000000</td>\n",
       "      <td>1130.000000</td>\n",
       "      <td>904.000000</td>\n",
       "      <td>-20.000000</td>\n",
       "      <td>3.000000</td>\n",
       "      <td>0.000000</td>\n",
       "      <td>0.000000</td>\n",
       "      <td>30.000000</td>\n",
       "      <td>1.00000</td>\n",
       "      <td>72.000000</td>\n",
       "    </tr>\n",
       "    <tr>\n",
       "      <th>25%</th>\n",
       "      <td>0.000000</td>\n",
       "      <td>1674.000000</td>\n",
       "      <td>1248.650000</td>\n",
       "      <td>47.000000</td>\n",
       "      <td>4.000000</td>\n",
       "      <td>0.000000</td>\n",
       "      <td>0.000000</td>\n",
       "      <td>45.000000</td>\n",
       "      <td>3.00000</td>\n",
       "      <td>78.000000</td>\n",
       "    </tr>\n",
       "    <tr>\n",
       "      <th>50%</th>\n",
       "      <td>1.000000</td>\n",
       "      <td>1805.000000</td>\n",
       "      <td>1358.400000</td>\n",
       "      <td>56.000000</td>\n",
       "      <td>4.000000</td>\n",
       "      <td>1.000000</td>\n",
       "      <td>0.000000</td>\n",
       "      <td>87.000000</td>\n",
       "      <td>4.00000</td>\n",
       "      <td>81.000000</td>\n",
       "    </tr>\n",
       "    <tr>\n",
       "      <th>75%</th>\n",
       "      <td>1.000000</td>\n",
       "      <td>1907.000000</td>\n",
       "      <td>1494.400000</td>\n",
       "      <td>70.000000</td>\n",
       "      <td>4.000000</td>\n",
       "      <td>2.000000</td>\n",
       "      <td>0.000000</td>\n",
       "      <td>133.000000</td>\n",
       "      <td>4.00000</td>\n",
       "      <td>85.000000</td>\n",
       "    </tr>\n",
       "    <tr>\n",
       "      <th>max</th>\n",
       "      <td>1.000000</td>\n",
       "      <td>229821.000000</td>\n",
       "      <td>183856.800000</td>\n",
       "      <td>449.000000</td>\n",
       "      <td>6.000000</td>\n",
       "      <td>9.000000</td>\n",
       "      <td>1.000000</td>\n",
       "      <td>181.000000</td>\n",
       "      <td>7.00000</td>\n",
       "      <td>332.000000</td>\n",
       "    </tr>\n",
       "  </tbody>\n",
       "</table>\n",
       "</div>"
      ],
      "text/plain": [
       "         active_cust         income    expenditure  months_on_network  \\\n",
       "count  100000.000000  100000.000000  100000.000000      100000.000000   \n",
       "mean        0.578590    1855.279910    1409.669662          58.402450   \n",
       "std         0.493787    2712.385257    2174.330870          18.643736   \n",
       "min         0.000000    1130.000000     904.000000         -20.000000   \n",
       "25%         0.000000    1674.000000    1248.650000          47.000000   \n",
       "50%         1.000000    1805.000000    1358.400000          56.000000   \n",
       "75%         1.000000    1907.000000    1494.400000          70.000000   \n",
       "max         1.000000  229821.000000  183856.800000         449.000000   \n",
       "\n",
       "       Num_complaints  number_plan_changes      relocated   monthly_bill  \\\n",
       "count   100000.000000        100000.000000  100000.000000  100000.000000   \n",
       "mean         4.012840             1.385410       0.123480      95.816450   \n",
       "std          0.285265             1.617101       0.328989      50.161327   \n",
       "min          3.000000             0.000000       0.000000      30.000000   \n",
       "25%          4.000000             0.000000       0.000000      45.000000   \n",
       "50%          4.000000             1.000000       0.000000      87.000000   \n",
       "75%          4.000000             2.000000       0.000000     133.000000   \n",
       "max          6.000000             9.000000       1.000000     181.000000   \n",
       "\n",
       "       technical_issues_per_month  Speed_test_result  \n",
       "count                100000.00000      100000.000000  \n",
       "mean                      3.31673          81.668540  \n",
       "std                       1.24147           9.952554  \n",
       "min                       1.00000          72.000000  \n",
       "25%                       3.00000          78.000000  \n",
       "50%                       4.00000          81.000000  \n",
       "75%                       4.00000          85.000000  \n",
       "max                       7.00000         332.000000  "
      ]
     },
     "execution_count": 9,
     "metadata": {},
     "output_type": "execute_result"
    }
   ],
   "source": [
    "data.describe()"
   ]
  },
  {
   "cell_type": "markdown",
   "metadata": {},
   "source": [
    "## Splitting the Dependent and Independent Variables"
   ]
  },
  {
   "cell_type": "code",
   "execution_count": 10,
   "metadata": {
    "scrolled": true
   },
   "outputs": [
    {
     "data": {
      "text/html": [
       "<div>\n",
       "<style scoped>\n",
       "    .dataframe tbody tr th:only-of-type {\n",
       "        vertical-align: middle;\n",
       "    }\n",
       "\n",
       "    .dataframe tbody tr th {\n",
       "        vertical-align: top;\n",
       "    }\n",
       "\n",
       "    .dataframe thead th {\n",
       "        text-align: right;\n",
       "    }\n",
       "</style>\n",
       "<table border=\"1\" class=\"dataframe\">\n",
       "  <thead>\n",
       "    <tr style=\"text-align: right;\">\n",
       "      <th></th>\n",
       "      <th>income</th>\n",
       "      <th>expenditure</th>\n",
       "      <th>months_on_network</th>\n",
       "      <th>Num_complaints</th>\n",
       "      <th>number_plan_changes</th>\n",
       "      <th>relocated</th>\n",
       "      <th>monthly_bill</th>\n",
       "      <th>technical_issues_per_month</th>\n",
       "    </tr>\n",
       "  </thead>\n",
       "  <tbody>\n",
       "    <tr>\n",
       "      <th>0</th>\n",
       "      <td>1586</td>\n",
       "      <td>1268.8</td>\n",
       "      <td>85</td>\n",
       "      <td>4</td>\n",
       "      <td>1</td>\n",
       "      <td>0</td>\n",
       "      <td>121</td>\n",
       "      <td>4</td>\n",
       "    </tr>\n",
       "    <tr>\n",
       "      <th>1</th>\n",
       "      <td>1581</td>\n",
       "      <td>1264.8</td>\n",
       "      <td>85</td>\n",
       "      <td>4</td>\n",
       "      <td>1</td>\n",
       "      <td>0</td>\n",
       "      <td>133</td>\n",
       "      <td>4</td>\n",
       "    </tr>\n",
       "    <tr>\n",
       "      <th>2</th>\n",
       "      <td>1594</td>\n",
       "      <td>1275.2</td>\n",
       "      <td>82</td>\n",
       "      <td>4</td>\n",
       "      <td>1</td>\n",
       "      <td>0</td>\n",
       "      <td>118</td>\n",
       "      <td>4</td>\n",
       "    </tr>\n",
       "    <tr>\n",
       "      <th>3</th>\n",
       "      <td>1594</td>\n",
       "      <td>1275.2</td>\n",
       "      <td>82</td>\n",
       "      <td>4</td>\n",
       "      <td>1</td>\n",
       "      <td>0</td>\n",
       "      <td>123</td>\n",
       "      <td>4</td>\n",
       "    </tr>\n",
       "    <tr>\n",
       "      <th>4</th>\n",
       "      <td>1609</td>\n",
       "      <td>1287.2</td>\n",
       "      <td>80</td>\n",
       "      <td>4</td>\n",
       "      <td>1</td>\n",
       "      <td>0</td>\n",
       "      <td>177</td>\n",
       "      <td>4</td>\n",
       "    </tr>\n",
       "    <tr>\n",
       "      <th>...</th>\n",
       "      <td>...</td>\n",
       "      <td>...</td>\n",
       "      <td>...</td>\n",
       "      <td>...</td>\n",
       "      <td>...</td>\n",
       "      <td>...</td>\n",
       "      <td>...</td>\n",
       "      <td>...</td>\n",
       "    </tr>\n",
       "    <tr>\n",
       "      <th>99995</th>\n",
       "      <td>1673</td>\n",
       "      <td>1338.4</td>\n",
       "      <td>71</td>\n",
       "      <td>4</td>\n",
       "      <td>2</td>\n",
       "      <td>0</td>\n",
       "      <td>46</td>\n",
       "      <td>4</td>\n",
       "    </tr>\n",
       "    <tr>\n",
       "      <th>99996</th>\n",
       "      <td>1667</td>\n",
       "      <td>1333.6</td>\n",
       "      <td>71</td>\n",
       "      <td>4</td>\n",
       "      <td>2</td>\n",
       "      <td>0</td>\n",
       "      <td>47</td>\n",
       "      <td>4</td>\n",
       "    </tr>\n",
       "    <tr>\n",
       "      <th>99997</th>\n",
       "      <td>1672</td>\n",
       "      <td>1337.6</td>\n",
       "      <td>71</td>\n",
       "      <td>4</td>\n",
       "      <td>2</td>\n",
       "      <td>0</td>\n",
       "      <td>36</td>\n",
       "      <td>4</td>\n",
       "    </tr>\n",
       "    <tr>\n",
       "      <th>99998</th>\n",
       "      <td>1686</td>\n",
       "      <td>1348.8</td>\n",
       "      <td>69</td>\n",
       "      <td>4</td>\n",
       "      <td>2</td>\n",
       "      <td>0</td>\n",
       "      <td>47</td>\n",
       "      <td>4</td>\n",
       "    </tr>\n",
       "    <tr>\n",
       "      <th>99999</th>\n",
       "      <td>1687</td>\n",
       "      <td>1349.6</td>\n",
       "      <td>69</td>\n",
       "      <td>4</td>\n",
       "      <td>2</td>\n",
       "      <td>0</td>\n",
       "      <td>33</td>\n",
       "      <td>4</td>\n",
       "    </tr>\n",
       "  </tbody>\n",
       "</table>\n",
       "<p>100000 rows × 8 columns</p>\n",
       "</div>"
      ],
      "text/plain": [
       "       income  expenditure  months_on_network  Num_complaints  \\\n",
       "0        1586       1268.8                 85               4   \n",
       "1        1581       1264.8                 85               4   \n",
       "2        1594       1275.2                 82               4   \n",
       "3        1594       1275.2                 82               4   \n",
       "4        1609       1287.2                 80               4   \n",
       "...       ...          ...                ...             ...   \n",
       "99995    1673       1338.4                 71               4   \n",
       "99996    1667       1333.6                 71               4   \n",
       "99997    1672       1337.6                 71               4   \n",
       "99998    1686       1348.8                 69               4   \n",
       "99999    1687       1349.6                 69               4   \n",
       "\n",
       "       number_plan_changes  relocated  monthly_bill  \\\n",
       "0                        1          0           121   \n",
       "1                        1          0           133   \n",
       "2                        1          0           118   \n",
       "3                        1          0           123   \n",
       "4                        1          0           177   \n",
       "...                    ...        ...           ...   \n",
       "99995                    2          0            46   \n",
       "99996                    2          0            47   \n",
       "99997                    2          0            36   \n",
       "99998                    2          0            47   \n",
       "99999                    2          0            33   \n",
       "\n",
       "       technical_issues_per_month  \n",
       "0                               4  \n",
       "1                               4  \n",
       "2                               4  \n",
       "3                               4  \n",
       "4                               4  \n",
       "...                           ...  \n",
       "99995                           4  \n",
       "99996                           4  \n",
       "99997                           4  \n",
       "99998                           4  \n",
       "99999                           4  \n",
       "\n",
       "[100000 rows x 8 columns]"
      ]
     },
     "execution_count": 10,
     "metadata": {},
     "output_type": "execute_result"
    }
   ],
   "source": [
    "X=data.iloc[:,1:9]\n",
    "X"
   ]
  },
  {
   "cell_type": "code",
   "execution_count": 11,
   "metadata": {},
   "outputs": [
    {
     "data": {
      "text/html": [
       "<div>\n",
       "<style scoped>\n",
       "    .dataframe tbody tr th:only-of-type {\n",
       "        vertical-align: middle;\n",
       "    }\n",
       "\n",
       "    .dataframe tbody tr th {\n",
       "        vertical-align: top;\n",
       "    }\n",
       "\n",
       "    .dataframe thead th {\n",
       "        text-align: right;\n",
       "    }\n",
       "</style>\n",
       "<table border=\"1\" class=\"dataframe\">\n",
       "  <thead>\n",
       "    <tr style=\"text-align: right;\">\n",
       "      <th></th>\n",
       "      <th>active_cust</th>\n",
       "    </tr>\n",
       "  </thead>\n",
       "  <tbody>\n",
       "    <tr>\n",
       "      <th>0</th>\n",
       "      <td>0</td>\n",
       "    </tr>\n",
       "    <tr>\n",
       "      <th>1</th>\n",
       "      <td>0</td>\n",
       "    </tr>\n",
       "    <tr>\n",
       "      <th>2</th>\n",
       "      <td>0</td>\n",
       "    </tr>\n",
       "    <tr>\n",
       "      <th>3</th>\n",
       "      <td>0</td>\n",
       "    </tr>\n",
       "    <tr>\n",
       "      <th>4</th>\n",
       "      <td>1</td>\n",
       "    </tr>\n",
       "    <tr>\n",
       "      <th>...</th>\n",
       "      <td>...</td>\n",
       "    </tr>\n",
       "    <tr>\n",
       "      <th>99995</th>\n",
       "      <td>1</td>\n",
       "    </tr>\n",
       "    <tr>\n",
       "      <th>99996</th>\n",
       "      <td>1</td>\n",
       "    </tr>\n",
       "    <tr>\n",
       "      <th>99997</th>\n",
       "      <td>1</td>\n",
       "    </tr>\n",
       "    <tr>\n",
       "      <th>99998</th>\n",
       "      <td>1</td>\n",
       "    </tr>\n",
       "    <tr>\n",
       "      <th>99999</th>\n",
       "      <td>1</td>\n",
       "    </tr>\n",
       "  </tbody>\n",
       "</table>\n",
       "<p>100000 rows × 1 columns</p>\n",
       "</div>"
      ],
      "text/plain": [
       "       active_cust\n",
       "0                0\n",
       "1                0\n",
       "2                0\n",
       "3                0\n",
       "4                1\n",
       "...            ...\n",
       "99995            1\n",
       "99996            1\n",
       "99997            1\n",
       "99998            1\n",
       "99999            1\n",
       "\n",
       "[100000 rows x 1 columns]"
      ]
     },
     "execution_count": 11,
     "metadata": {},
     "output_type": "execute_result"
    }
   ],
   "source": [
    "Y=data.loc[:,[\"active_cust\"]]\n",
    "Y"
   ]
  },
  {
   "cell_type": "markdown",
   "metadata": {},
   "source": [
    "## Splitting the data into train and test "
   ]
  },
  {
   "cell_type": "markdown",
   "metadata": {},
   "source": [
    "## Building Models- Linear Regression"
   ]
  },
  {
   "cell_type": "code",
   "execution_count": 12,
   "metadata": {},
   "outputs": [],
   "source": [
    "from sklearn.model_selection import train_test_split\n",
    "from sklearn.linear_model import LinearRegression"
   ]
  },
  {
   "cell_type": "code",
   "execution_count": 13,
   "metadata": {},
   "outputs": [],
   "source": [
    "train_x,test_x,train_y,test_y=train_test_split(X,Y,test_size=.2,random_state=4)"
   ]
  },
  {
   "cell_type": "code",
   "execution_count": 14,
   "metadata": {},
   "outputs": [],
   "source": [
    "lr=LinearRegression()"
   ]
  },
  {
   "cell_type": "code",
   "execution_count": 15,
   "metadata": {},
   "outputs": [
    {
     "data": {
      "text/plain": [
       "array([[0.3945226 ],\n",
       "       [0.62263037],\n",
       "       [0.63974256],\n",
       "       ...,\n",
       "       [0.55424792],\n",
       "       [0.43407849],\n",
       "       [0.55772371]])"
      ]
     },
     "execution_count": 15,
     "metadata": {},
     "output_type": "execute_result"
    }
   ],
   "source": [
    "lr.fit(train_x,train_y)\n",
    "y_pred=lr.predict(test_x)\n",
    "y_pred"
   ]
  },
  {
   "cell_type": "code",
   "execution_count": 16,
   "metadata": {},
   "outputs": [
    {
     "name": "stdout",
     "output_type": "stream",
     "text": [
      "Accuracy = 0.24840130790954473\n"
     ]
    }
   ],
   "source": [
    "accuracy = lr.score(test_x, test_y)\n",
    "print('Accuracy = '+ str(accuracy))"
   ]
  },
  {
   "cell_type": "markdown",
   "metadata": {},
   "source": [
    "## KNN Regressor"
   ]
  },
  {
   "cell_type": "code",
   "execution_count": 17,
   "metadata": {},
   "outputs": [],
   "source": [
    "from sklearn import neighbors\n",
    "n_neighbors = 5\n",
    "knn = neighbors.KNeighborsRegressor()\n",
    "y_pred2 = knn.fit(train_x,train_y).predict(test_x)\n"
   ]
  },
  {
   "cell_type": "code",
   "execution_count": 18,
   "metadata": {},
   "outputs": [
    {
     "name": "stdout",
     "output_type": "stream",
     "text": [
      "Accuracy = 0.21273779575461593\n"
     ]
    }
   ],
   "source": [
    "accuracy = knn.score(test_x, test_y)\n",
    "print('Accuracy = '+ str(accuracy))"
   ]
  },
  {
   "cell_type": "markdown",
   "metadata": {},
   "source": [
    "## Decision Tree Regressor"
   ]
  },
  {
   "cell_type": "code",
   "execution_count": 19,
   "metadata": {},
   "outputs": [],
   "source": [
    "from sklearn.tree import DecisionTreeRegressor\n",
    "regr_1 = DecisionTreeRegressor(max_depth=2)\n",
    "regr_2 = DecisionTreeRegressor(max_depth=10)\n",
    "regr_1.fit(train_x,train_y)\n",
    "regr_2.fit(train_x,train_y)\n",
    "y_pred3=regr_1.predict(test_x)\n",
    "y_pred4=regr_2.predict(test_x)"
   ]
  },
  {
   "cell_type": "code",
   "execution_count": 20,
   "metadata": {},
   "outputs": [
    {
     "name": "stdout",
     "output_type": "stream",
     "text": [
      "Accuracy = 0.22127692713918323\n",
      "Accuracy = 0.5260347510894382\n"
     ]
    }
   ],
   "source": [
    "accuracy = regr_1.score(test_x, test_y)\n",
    "print('Accuracy = '+ str(accuracy))\n",
    "accuracy = regr_2.score(test_x, test_y)\n",
    "print('Accuracy = '+ str(accuracy))"
   ]
  },
  {
   "cell_type": "markdown",
   "metadata": {},
   "source": [
    "## Random Forest Regressor"
   ]
  },
  {
   "cell_type": "code",
   "execution_count": 21,
   "metadata": {},
   "outputs": [
    {
     "name": "stderr",
     "output_type": "stream",
     "text": [
      "C:\\Users\\Nikhitha Siva\\Anaconda3\\envs\\new\\lib\\site-packages\\ipykernel_launcher.py:3: DataConversionWarning: A column-vector y was passed when a 1d array was expected. Please change the shape of y to (n_samples,), for example using ravel().\n",
      "  This is separate from the ipykernel package so we can avoid doing imports until\n"
     ]
    },
    {
     "name": "stdout",
     "output_type": "stream",
     "text": [
      "Accuracy = 0.5386234596717432\n"
     ]
    }
   ],
   "source": [
    "from sklearn.ensemble import RandomForestRegressor\n",
    "rfr=RandomForestRegressor(n_estimators=100,max_depth=15)\n",
    "rfr.fit(train_x,train_y)\n",
    "y_pred5=rfr.predict(test_x)\n",
    "accuracy = rfr.score(test_x, test_y)\n",
    "print('Accuracy = '+ str(accuracy))"
   ]
  },
  {
   "cell_type": "markdown",
   "metadata": {},
   "source": [
    "## Ada Boost Regressor"
   ]
  },
  {
   "cell_type": "code",
   "execution_count": 22,
   "metadata": {},
   "outputs": [
    {
     "name": "stderr",
     "output_type": "stream",
     "text": [
      "C:\\Users\\Nikhitha Siva\\Anaconda3\\envs\\new\\lib\\site-packages\\sklearn\\utils\\validation.py:72: DataConversionWarning: A column-vector y was passed when a 1d array was expected. Please change the shape of y to (n_samples, ), for example using ravel().\n",
      "  return f(**kwargs)\n"
     ]
    },
    {
     "name": "stdout",
     "output_type": "stream",
     "text": [
      "Accuracy = 0.3205352058520383\n"
     ]
    }
   ],
   "source": [
    "from sklearn.ensemble import AdaBoostRegressor\n",
    "abr=AdaBoostRegressor(n_estimators=100)\n",
    "abr.fit(train_x,train_y)\n",
    "y_pred6=abr.predict(test_x)\n",
    "accuracy = abr.score(test_x, test_y)\n",
    "print('Accuracy = '+ str(accuracy))"
   ]
  },
  {
   "cell_type": "markdown",
   "metadata": {},
   "source": [
    "## Tuning Parameters "
   ]
  },
  {
   "cell_type": "markdown",
   "metadata": {},
   "source": [
    "## Implementing GridSearch\n",
    "#### When we compared all regression models, the Random Forest Regressor gave us better accuracy. Hence we are fine tuning the parameters using gridsearch in order to find out the best fit model."
   ]
  },
  {
   "cell_type": "code",
   "execution_count": 23,
   "metadata": {},
   "outputs": [],
   "source": [
    "from sklearn.model_selection import GridSearchCV\n",
    "param_grid={'n_estimators':[150,200],'criterion':['mse'],'max_depth':[15,20,30]}\n",
    "Gd=GridSearchCV(rfr,param_grid,cv=2,n_jobs=-1,verbose=2,return_train_score= True)"
   ]
  },
  {
   "cell_type": "code",
   "execution_count": 25,
   "metadata": {},
   "outputs": [
    {
     "name": "stdout",
     "output_type": "stream",
     "text": [
      "Fitting 2 folds for each of 6 candidates, totalling 12 fits\n"
     ]
    },
    {
     "name": "stderr",
     "output_type": "stream",
     "text": [
      "[Parallel(n_jobs=-1)]: Using backend LokyBackend with 8 concurrent workers.\n",
      "[Parallel(n_jobs=-1)]: Done   4 out of  12 | elapsed:  3.8min remaining:  7.5min\n",
      "[Parallel(n_jobs=-1)]: Done  12 out of  12 | elapsed:  8.1min finished\n",
      "C:\\Users\\Nikhitha Siva\\Anaconda3\\envs\\new\\lib\\site-packages\\sklearn\\model_selection\\_search.py:765: DataConversionWarning: A column-vector y was passed when a 1d array was expected. Please change the shape of y to (n_samples,), for example using ravel().\n",
      "  self.best_estimator_.fit(X, y, **fit_params)\n"
     ]
    },
    {
     "data": {
      "text/plain": [
       "GridSearchCV(cv=2, estimator=RandomForestRegressor(max_depth=15), n_jobs=-1,\n",
       "             param_grid={'criterion': ['mse'], 'max_depth': [15, 20, 30],\n",
       "                         'n_estimators': [150, 200]},\n",
       "             return_train_score=True, verbose=2)"
      ]
     },
     "execution_count": 25,
     "metadata": {},
     "output_type": "execute_result"
    }
   ],
   "source": [
    "Gd.fit(X,Y)"
   ]
  },
  {
   "cell_type": "code",
   "execution_count": 26,
   "metadata": {},
   "outputs": [
    {
     "data": {
      "text/plain": [
       "RandomForestRegressor(max_depth=20, n_estimators=150)"
      ]
     },
     "execution_count": 26,
     "metadata": {},
     "output_type": "execute_result"
    }
   ],
   "source": [
    "Gd.best_estimator_"
   ]
  },
  {
   "cell_type": "code",
   "execution_count": 27,
   "metadata": {},
   "outputs": [
    {
     "data": {
      "text/plain": [
       "-0.4280798847344315"
      ]
     },
     "execution_count": 27,
     "metadata": {},
     "output_type": "execute_result"
    }
   ],
   "source": [
    "Gd.best_score_"
   ]
  },
  {
   "cell_type": "code",
   "execution_count": 31,
   "metadata": {},
   "outputs": [
    {
     "name": "stdout",
     "output_type": "stream",
     "text": [
      "Accuracy = 0.5396497869078869\n"
     ]
    }
   ],
   "source": [
    "from sklearn.ensemble import RandomForestRegressor\n",
    "rfr=RandomForestRegressor(n_estimators=150,max_depth=15)\n",
    "rfr.fit(train_x,train_y.values.ravel())\n",
    "y_pred7=rfr.predict(test_x)\n",
    "accuracy = rfr.score(test_x, test_y)\n",
    "print('Accuracy = '+ str(accuracy))"
   ]
  },
  {
   "cell_type": "markdown",
   "metadata": {},
   "source": [
    "> The highest accuracy that was achieved is 53.9%"
   ]
  },
  {
   "cell_type": "markdown",
   "metadata": {},
   "source": [
    "### Using more feature engineering and hyperparameter tuning the model can be further improved, but requires more time.\n"
   ]
  },
  {
   "cell_type": "code",
   "execution_count": null,
   "metadata": {},
   "outputs": [],
   "source": []
  }
 ],
 "metadata": {
  "kernelspec": {
   "display_name": "Python 3",
   "language": "python",
   "name": "python3"
  },
  "language_info": {
   "codemirror_mode": {
    "name": "ipython",
    "version": 3
   },
   "file_extension": ".py",
   "mimetype": "text/x-python",
   "name": "python",
   "nbconvert_exporter": "python",
   "pygments_lexer": "ipython3",
   "version": "3.7.7"
  }
 },
 "nbformat": 4,
 "nbformat_minor": 4
}
